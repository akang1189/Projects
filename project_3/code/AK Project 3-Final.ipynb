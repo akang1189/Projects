{
 "cells": [
  {
   "cell_type": "markdown",
   "metadata": {},
   "source": [
    "# Project 3"
   ]
  },
  {
   "cell_type": "code",
   "execution_count": 1,
   "metadata": {},
   "outputs": [],
   "source": [
    "#Imports\n",
    "import numpy as np\n",
    "import seaborn as sns\n",
    "import matplotlib.pyplot as plt\n",
    "import requests\n",
    "import pandas as pd\n",
    "from nltk.tokenize import RegexpTokenizer\n",
    "from sklearn.model_selection import train_test_split, GridSearchCV\n",
    "from sklearn.pipeline import Pipeline\n",
    "from sklearn.linear_model import LogisticRegression\n",
    "from sklearn.feature_extraction.text import CountVectorizer, TfidfVectorizer\n",
    "from nltk.corpus import stopwords\n",
    "from sklearn.metrics import confusion_matrix, plot_confusion_matrix\n",
    "from sklearn.ensemble import RandomForestClassifier\n",
    "\n",
    "from nltk.stem import WordNetLemmatizer\n",
    "from nltk.stem.porter import PorterStemmer\n",
    "# from nltk.sentiment.vader import SentimentIntensityAnalyzer\n"
   ]
  },
  {
   "cell_type": "markdown",
   "metadata": {},
   "source": [
    "# Data Collection and Cleaning"
   ]
  },
  {
   "cell_type": "code",
   "execution_count": 2,
   "metadata": {},
   "outputs": [],
   "source": [
    "#grabbing data limit 5000 posts/fixed my issue here before\n",
    "def get_data(subreddit):\n",
    "    data = []\n",
    "    url =f'https://api.pushshift.io/reddit/search/submission?subreddit={subreddit}'\n",
    "    req = requests.get(url).json()\n",
    "    while len(data) <= 5000:\n",
    "            data.extend(req['data'])\n",
    "    return data"
   ]
  },
  {
   "cell_type": "code",
   "execution_count": 3,
   "metadata": {},
   "outputs": [],
   "source": [
    "nfl_posts = get_data(\"nfl\")\n",
    "bb_posts = get_data(\"baseball\")"
   ]
  },
  {
   "cell_type": "code",
   "execution_count": 4,
   "metadata": {},
   "outputs": [],
   "source": [
    "nfl_df = pd.DataFrame(nfl_posts)\n",
    "\n",
    "bb_df=pd.DataFrame(bb_posts)"
   ]
  },
  {
   "cell_type": "code",
   "execution_count": 5,
   "metadata": {},
   "outputs": [],
   "source": [
    "nfl_df=nfl_df[['subreddit','title','selftext',]]"
   ]
  },
  {
   "cell_type": "code",
   "execution_count": 6,
   "metadata": {},
   "outputs": [
    {
     "data": {
      "text/html": [
       "<div>\n",
       "<style scoped>\n",
       "    .dataframe tbody tr th:only-of-type {\n",
       "        vertical-align: middle;\n",
       "    }\n",
       "\n",
       "    .dataframe tbody tr th {\n",
       "        vertical-align: top;\n",
       "    }\n",
       "\n",
       "    .dataframe thead th {\n",
       "        text-align: right;\n",
       "    }\n",
       "</style>\n",
       "<table border=\"1\" class=\"dataframe\">\n",
       "  <thead>\n",
       "    <tr style=\"text-align: right;\">\n",
       "      <th></th>\n",
       "      <th>subreddit</th>\n",
       "      <th>title</th>\n",
       "      <th>selftext</th>\n",
       "    </tr>\n",
       "  </thead>\n",
       "  <tbody>\n",
       "    <tr>\n",
       "      <th>0</th>\n",
       "      <td>baseball</td>\n",
       "      <td>Arizona hangs it, LaMonte Wade Jr. bangs it ve...</td>\n",
       "      <td></td>\n",
       "    </tr>\n",
       "    <tr>\n",
       "      <th>1</th>\n",
       "      <td>baseball</td>\n",
       "      <td>[Divish] John Tumpane's called strike three on...</td>\n",
       "      <td></td>\n",
       "    </tr>\n",
       "    <tr>\n",
       "      <th>2</th>\n",
       "      <td>baseball</td>\n",
       "      <td>Kyle Gibson 5.2 IP 7SO 3BB 5H ERA at 1.98 in l...</td>\n",
       "      <td>Kyle didn't have his best stuff tonight but ba...</td>\n",
       "    </tr>\n",
       "    <tr>\n",
       "      <th>3</th>\n",
       "      <td>baseball</td>\n",
       "      <td>Kike Hernandez drives in the Manfred runner to...</td>\n",
       "      <td></td>\n",
       "    </tr>\n",
       "    <tr>\n",
       "      <th>4</th>\n",
       "      <td>baseball</td>\n",
       "      <td>Why would a team shift largely toward the 1st ...</td>\n",
       "      <td>I’m currently watching the Giants/D-Backs game...</td>\n",
       "    </tr>\n",
       "    <tr>\n",
       "      <th>...</th>\n",
       "      <td>...</td>\n",
       "      <td>...</td>\n",
       "      <td>...</td>\n",
       "    </tr>\n",
       "    <tr>\n",
       "      <th>5020</th>\n",
       "      <td>baseball</td>\n",
       "      <td>[Hightlight] José Rondón ties the game in the ...</td>\n",
       "      <td></td>\n",
       "    </tr>\n",
       "    <tr>\n",
       "      <th>5021</th>\n",
       "      <td>baseball</td>\n",
       "      <td>Red Hats</td>\n",
       "      <td>As a Rays fan, confrontational</td>\n",
       "    </tr>\n",
       "    <tr>\n",
       "      <th>5022</th>\n",
       "      <td>baseball</td>\n",
       "      <td>[Niehaus] Will Bednar, hours after the Nationa...</td>\n",
       "      <td></td>\n",
       "    </tr>\n",
       "    <tr>\n",
       "      <th>5023</th>\n",
       "      <td>baseball</td>\n",
       "      <td>For the first time in 10 days, the Royals have...</td>\n",
       "      <td>No, we are still really straight up not having...</td>\n",
       "    </tr>\n",
       "    <tr>\n",
       "      <th>5024</th>\n",
       "      <td>baseball</td>\n",
       "      <td>[De Nicola] (paraphrase) Pablo Lopez is the fi...</td>\n",
       "      <td></td>\n",
       "    </tr>\n",
       "  </tbody>\n",
       "</table>\n",
       "<p>5025 rows × 3 columns</p>\n",
       "</div>"
      ],
      "text/plain": [
       "     subreddit                                              title  \\\n",
       "0     baseball  Arizona hangs it, LaMonte Wade Jr. bangs it ve...   \n",
       "1     baseball  [Divish] John Tumpane's called strike three on...   \n",
       "2     baseball  Kyle Gibson 5.2 IP 7SO 3BB 5H ERA at 1.98 in l...   \n",
       "3     baseball  Kike Hernandez drives in the Manfred runner to...   \n",
       "4     baseball  Why would a team shift largely toward the 1st ...   \n",
       "...        ...                                                ...   \n",
       "5020  baseball  [Hightlight] José Rondón ties the game in the ...   \n",
       "5021  baseball                                           Red Hats   \n",
       "5022  baseball  [Niehaus] Will Bednar, hours after the Nationa...   \n",
       "5023  baseball  For the first time in 10 days, the Royals have...   \n",
       "5024  baseball  [De Nicola] (paraphrase) Pablo Lopez is the fi...   \n",
       "\n",
       "                                               selftext  \n",
       "0                                                        \n",
       "1                                                        \n",
       "2     Kyle didn't have his best stuff tonight but ba...  \n",
       "3                                                        \n",
       "4     I’m currently watching the Giants/D-Backs game...  \n",
       "...                                                 ...  \n",
       "5020                                                     \n",
       "5021                     As a Rays fan, confrontational  \n",
       "5022                                                     \n",
       "5023  No, we are still really straight up not having...  \n",
       "5024                                                     \n",
       "\n",
       "[5025 rows x 3 columns]"
      ]
     },
     "execution_count": 6,
     "metadata": {},
     "output_type": "execute_result"
    }
   ],
   "source": [
    "bb_df=bb_df[['subreddit','title','selftext',]]\n",
    "bb_df"
   ]
  },
  {
   "cell_type": "code",
   "execution_count": 7,
   "metadata": {},
   "outputs": [],
   "source": [
    "nfl_df = pd.DataFrame(nfl_df)"
   ]
  },
  {
   "cell_type": "code",
   "execution_count": 8,
   "metadata": {},
   "outputs": [],
   "source": [
    "bb_df = pd.DataFrame(bb_df)"
   ]
  },
  {
   "cell_type": "code",
   "execution_count": 9,
   "metadata": {},
   "outputs": [
    {
     "data": {
      "text/plain": [
       "subreddit    0\n",
       "title        0\n",
       "selftext     0\n",
       "dtype: int64"
      ]
     },
     "execution_count": 9,
     "metadata": {},
     "output_type": "execute_result"
    }
   ],
   "source": [
    "nfl_df.isnull().sum()"
   ]
  },
  {
   "cell_type": "code",
   "execution_count": 10,
   "metadata": {},
   "outputs": [
    {
     "data": {
      "text/plain": [
       "subreddit    0\n",
       "title        0\n",
       "selftext     0\n",
       "dtype: int64"
      ]
     },
     "execution_count": 10,
     "metadata": {},
     "output_type": "execute_result"
    }
   ],
   "source": [
    "bb_df.isnull().sum()"
   ]
  },
  {
   "cell_type": "code",
   "execution_count": 11,
   "metadata": {},
   "outputs": [],
   "source": [
    "final_df=pd.concat([nfl_df, bb_df])\n",
    "final_df[\"post\"] = final_df[\"title\"] +' '+ final_df[\"selftext\"]"
   ]
  },
  {
   "cell_type": "code",
   "execution_count": 12,
   "metadata": {},
   "outputs": [],
   "source": [
    "final_df['post'].dropna(inplace=True)"
   ]
  },
  {
   "cell_type": "code",
   "execution_count": 13,
   "metadata": {},
   "outputs": [
    {
     "data": {
      "text/plain": [
       "0            nfl\n",
       "1            nfl\n",
       "2            nfl\n",
       "3            nfl\n",
       "4            nfl\n",
       "          ...   \n",
       "5020    baseball\n",
       "5021    baseball\n",
       "5022    baseball\n",
       "5023    baseball\n",
       "5024    baseball\n",
       "Name: subreddit, Length: 10050, dtype: object"
      ]
     },
     "execution_count": 13,
     "metadata": {},
     "output_type": "execute_result"
    }
   ],
   "source": [
    "final_df['subreddit']"
   ]
  },
  {
   "cell_type": "markdown",
   "metadata": {},
   "source": [
    "Pre-processing"
   ]
  },
  {
   "cell_type": "code",
   "execution_count": 14,
   "metadata": {},
   "outputs": [],
   "source": [
    "final_df['subreddit'] = final_df['subreddit'].map({'nfl': 0, 'baseball': 1})"
   ]
  },
  {
   "cell_type": "code",
   "execution_count": 15,
   "metadata": {},
   "outputs": [
    {
     "data": {
      "text/plain": [
       "(10050,)"
      ]
     },
     "execution_count": 15,
     "metadata": {},
     "output_type": "execute_result"
    }
   ],
   "source": [
    "final_df[\"post\"].shape"
   ]
  },
  {
   "cell_type": "code",
   "execution_count": 16,
   "metadata": {},
   "outputs": [],
   "source": [
    "#class notes\n",
    "tokenizer = RegexpTokenizer(r'\\w+')\n",
    "lemmatizer = WordNetLemmatizer()\n",
    "p_stemmer = PorterStemmer()\n",
    "lemm = []\n",
    "stemm = []\n",
    "for t in final_df['post']:\n",
    "    tokens = tokenizer.tokenize(t.lower())\n",
    "    tokens_lem = [lemmatizer.lemmatize(l) for l in tokens]\n",
    "    lemm.append(tokens_lem)\n",
    "    tokens_stemm = [p_stemmer.stem(s) for s in tokens]\n",
    "    stemm.append(tokens_stemm) "
   ]
  },
  {
   "cell_type": "code",
   "execution_count": 17,
   "metadata": {},
   "outputs": [
    {
     "data": {
      "text/html": [
       "<div>\n",
       "<style scoped>\n",
       "    .dataframe tbody tr th:only-of-type {\n",
       "        vertical-align: middle;\n",
       "    }\n",
       "\n",
       "    .dataframe tbody tr th {\n",
       "        vertical-align: top;\n",
       "    }\n",
       "\n",
       "    .dataframe thead th {\n",
       "        text-align: right;\n",
       "    }\n",
       "</style>\n",
       "<table border=\"1\" class=\"dataframe\">\n",
       "  <thead>\n",
       "    <tr style=\"text-align: right;\">\n",
       "      <th></th>\n",
       "      <th>subreddit</th>\n",
       "      <th>title</th>\n",
       "      <th>selftext</th>\n",
       "      <th>post</th>\n",
       "    </tr>\n",
       "  </thead>\n",
       "  <tbody>\n",
       "    <tr>\n",
       "      <th>0</th>\n",
       "      <td>0</td>\n",
       "      <td>Ezekiel Elliott leads the NFL in yards from sc...</td>\n",
       "      <td>https://www.statmuse.com/nfl/ask/who-has-the-m...</td>\n",
       "      <td>Ezekiel Elliott leads the NFL in yards from sc...</td>\n",
       "    </tr>\n",
       "    <tr>\n",
       "      <th>1</th>\n",
       "      <td>0</td>\n",
       "      <td>Since 2016 Ezekiel Eliiott leads the league in...</td>\n",
       "      <td></td>\n",
       "      <td>Since 2016 Ezekiel Eliiott leads the league in...</td>\n",
       "    </tr>\n",
       "    <tr>\n",
       "      <th>2</th>\n",
       "      <td>0</td>\n",
       "      <td>[Highlights] One year ago today, we lost a leg...</td>\n",
       "      <td></td>\n",
       "      <td>[Highlights] One year ago today, we lost a leg...</td>\n",
       "    </tr>\n",
       "    <tr>\n",
       "      <th>3</th>\n",
       "      <td>0</td>\n",
       "      <td>[Highlights] 1982- The Bengals and Chargers ri...</td>\n",
       "      <td></td>\n",
       "      <td>[Highlights] 1982- The Bengals and Chargers ri...</td>\n",
       "    </tr>\n",
       "    <tr>\n",
       "      <th>4</th>\n",
       "      <td>0</td>\n",
       "      <td>[B/R] Percy Harvin on coping with anxiety duri...</td>\n",
       "      <td></td>\n",
       "      <td>[B/R] Percy Harvin on coping with anxiety duri...</td>\n",
       "    </tr>\n",
       "    <tr>\n",
       "      <th>...</th>\n",
       "      <td>...</td>\n",
       "      <td>...</td>\n",
       "      <td>...</td>\n",
       "      <td>...</td>\n",
       "    </tr>\n",
       "    <tr>\n",
       "      <th>5020</th>\n",
       "      <td>1</td>\n",
       "      <td>[Hightlight] José Rondón ties the game in the ...</td>\n",
       "      <td></td>\n",
       "      <td>[Hightlight] José Rondón ties the game in the ...</td>\n",
       "    </tr>\n",
       "    <tr>\n",
       "      <th>5021</th>\n",
       "      <td>1</td>\n",
       "      <td>Red Hats</td>\n",
       "      <td>As a Rays fan, confrontational</td>\n",
       "      <td>Red Hats As a Rays fan, confrontational</td>\n",
       "    </tr>\n",
       "    <tr>\n",
       "      <th>5022</th>\n",
       "      <td>1</td>\n",
       "      <td>[Niehaus] Will Bednar, hours after the Nationa...</td>\n",
       "      <td></td>\n",
       "      <td>[Niehaus] Will Bednar, hours after the Nationa...</td>\n",
       "    </tr>\n",
       "    <tr>\n",
       "      <th>5023</th>\n",
       "      <td>1</td>\n",
       "      <td>For the first time in 10 days, the Royals have...</td>\n",
       "      <td>No, we are still really straight up not having...</td>\n",
       "      <td>For the first time in 10 days, the Royals have...</td>\n",
       "    </tr>\n",
       "    <tr>\n",
       "      <th>5024</th>\n",
       "      <td>1</td>\n",
       "      <td>[De Nicola] (paraphrase) Pablo Lopez is the fi...</td>\n",
       "      <td></td>\n",
       "      <td>[De Nicola] (paraphrase) Pablo Lopez is the fi...</td>\n",
       "    </tr>\n",
       "  </tbody>\n",
       "</table>\n",
       "<p>10050 rows × 4 columns</p>\n",
       "</div>"
      ],
      "text/plain": [
       "      subreddit                                              title  \\\n",
       "0             0  Ezekiel Elliott leads the NFL in yards from sc...   \n",
       "1             0  Since 2016 Ezekiel Eliiott leads the league in...   \n",
       "2             0  [Highlights] One year ago today, we lost a leg...   \n",
       "3             0  [Highlights] 1982- The Bengals and Chargers ri...   \n",
       "4             0  [B/R] Percy Harvin on coping with anxiety duri...   \n",
       "...         ...                                                ...   \n",
       "5020          1  [Hightlight] José Rondón ties the game in the ...   \n",
       "5021          1                                           Red Hats   \n",
       "5022          1  [Niehaus] Will Bednar, hours after the Nationa...   \n",
       "5023          1  For the first time in 10 days, the Royals have...   \n",
       "5024          1  [De Nicola] (paraphrase) Pablo Lopez is the fi...   \n",
       "\n",
       "                                               selftext  \\\n",
       "0     https://www.statmuse.com/nfl/ask/who-has-the-m...   \n",
       "1                                                         \n",
       "2                                                         \n",
       "3                                                         \n",
       "4                                                         \n",
       "...                                                 ...   \n",
       "5020                                                      \n",
       "5021                     As a Rays fan, confrontational   \n",
       "5022                                                      \n",
       "5023  No, we are still really straight up not having...   \n",
       "5024                                                      \n",
       "\n",
       "                                                   post  \n",
       "0     Ezekiel Elliott leads the NFL in yards from sc...  \n",
       "1     Since 2016 Ezekiel Eliiott leads the league in...  \n",
       "2     [Highlights] One year ago today, we lost a leg...  \n",
       "3     [Highlights] 1982- The Bengals and Chargers ri...  \n",
       "4     [B/R] Percy Harvin on coping with anxiety duri...  \n",
       "...                                                 ...  \n",
       "5020  [Hightlight] José Rondón ties the game in the ...  \n",
       "5021            Red Hats As a Rays fan, confrontational  \n",
       "5022  [Niehaus] Will Bednar, hours after the Nationa...  \n",
       "5023  For the first time in 10 days, the Royals have...  \n",
       "5024  [De Nicola] (paraphrase) Pablo Lopez is the fi...  \n",
       "\n",
       "[10050 rows x 4 columns]"
      ]
     },
     "execution_count": 17,
     "metadata": {},
     "output_type": "execute_result"
    }
   ],
   "source": [
    "final_df"
   ]
  },
  {
   "cell_type": "code",
   "execution_count": 18,
   "metadata": {},
   "outputs": [],
   "source": [
    "X = final_df['post']\n",
    "y = final_df['subreddit']\n",
    "X_train, X_test, y_train, y_test = train_test_split(X,y, stratify = y)"
   ]
  },
  {
   "cell_type": "code",
   "execution_count": 19,
   "metadata": {},
   "outputs": [],
   "source": [
    "#add_stop_words\n",
    "add_stop_words = ['team', 'teams', 'game', 'just', 'like', 'league', 'com','www','https' ]\n",
    "stop_words = (CountVectorizer(ngram_range =(1,1), stop_words='english').get_stop_words())\n",
    "stop_words = stop_words.union(add_stop_words)"
   ]
  },
  {
   "cell_type": "code",
   "execution_count": 20,
   "metadata": {},
   "outputs": [],
   "source": [
    "cvec= CountVectorizer(stop_words = stop_words)"
   ]
  },
  {
   "cell_type": "code",
   "execution_count": 21,
   "metadata": {},
   "outputs": [],
   "source": [
    "X_train = cvec.fit_transform(X_train)"
   ]
  },
  {
   "cell_type": "code",
   "execution_count": 22,
   "metadata": {},
   "outputs": [],
   "source": [
    "X_test = cvec.transform(X_test)"
   ]
  },
  {
   "cell_type": "markdown",
   "metadata": {},
   "source": [
    "# EDA"
   ]
  },
  {
   "cell_type": "code",
   "execution_count": 23,
   "metadata": {},
   "outputs": [
    {
     "data": {
      "image/png": "[encoded data removed]",
      "text/plain": [
       "<Figure size 432x288 with 1 Axes>"
      ]
     },
     "metadata": {
      "needs_background": "light"
     },
     "output_type": "display_data"
    }
   ],
   "source": [
    "top_words = pd.DataFrame(X_train.todense(), \n",
    "                          columns=cvec.get_feature_names())\n",
    "top_words.sum().sort_values(ascending=False).head(10).plot(kind='barh');\n",
    "plt.ylabel('Words')\n",
    "plt.xlabel('Frequency')\n",
    "plt.title('Top 10 Words');"
   ]
  },
  {
   "cell_type": "code",
   "execution_count": 24,
   "metadata": {},
   "outputs": [
    {
     "data": {
      "image/png": "[encoded data removed]",
      "text/plain": [
       "<Figure size 432x288 with 1 Axes>"
      ]
     },
     "metadata": {
      "needs_background": "light"
     },
     "output_type": "display_data"
    }
   ],
   "source": [
    "cv_nfl=pd.DataFrame(cvec.fit_transform(nfl_df['selftext']).todense(),\n",
    "             columns=cvec.get_feature_names())\n",
    "cv_nfl.sum().sort_values(ascending=False).head(10).plot(kind='barh');\n",
    "plt.ylabel('Words')\n",
    "plt.xlabel('Frequency')\n",
    "plt.title('Top 10 Words after adding stopwords NFL');"
   ]
  },
  {
   "cell_type": "code",
   "execution_count": 25,
   "metadata": {},
   "outputs": [
    {
     "data": {
      "image/png": "[encoded data removed]",
      "text/plain": [
       "<Figure size 432x288 with 1 Axes>"
      ]
     },
     "metadata": {
      "needs_background": "light"
     },
     "output_type": "display_data"
    }
   ],
   "source": [
    "bb_df2=pd.DataFrame(cvec.fit_transform(bb_df['selftext']).todense(),\n",
    "             columns=cvec.get_feature_names())\n",
    "bb_df2.sum().sort_values(ascending=False).head(10).plot(kind='barh');\n",
    "plt.ylabel('Words')\n",
    "plt.xlabel('Frequency')\n",
    "plt.title('Top 10 Words after adding stopwords Baseball');"
   ]
  },
  {
   "cell_type": "code",
   "execution_count": 26,
   "metadata": {},
   "outputs": [
    {
     "data": {
      "image/png": "[encoded data removed]",
      "text/plain": [
       "<Figure size 432x288 with 1 Axes>"
      ]
     },
     "metadata": {
      "needs_background": "light"
     },
     "output_type": "display_data"
    }
   ],
   "source": [
    "cv_df=pd.DataFrame(cvec.fit_transform(final_df['post']).todense(),\n",
    "             columns=cvec.get_feature_names())\n",
    "cv_df.sum().sort_values(ascending=False).head(10).plot(kind='barh');\n",
    "plt.ylabel('Words')\n",
    "plt.xlabel('Frequency')\n",
    "plt.title('Top 10 Words after adding stopwords');"
   ]
  },
  {
   "cell_type": "code",
   "execution_count": 27,
   "metadata": {},
   "outputs": [
    {
     "data": {
      "image/png": "[encoded data removed]",
      "text/plain": [
       "<Figure size 432x288 with 1 Axes>"
      ]
     },
     "metadata": {
      "needs_background": "light"
     },
     "output_type": "display_data"
    }
   ],
   "source": [
    "#got some help from classmates on the paired words, went back and changed my initial working code to clean\n",
    "cv_words = CountVectorizer(ngram_range =(2,2), stop_words=stop_words)\n",
    "\n",
    "cv_df=pd.DataFrame(cv_words.fit_transform(final_df['post']).todense(),\n",
    "             columns=cv_words.get_feature_names())\n",
    "       \n",
    "cv_df.sum().sort_values(ascending=False).head(10).plot(kind='barh');\n",
    "\n",
    "\n",
    "plt.ylabel('Words')\n",
    "plt.xlabel('Frequency')\n",
    "plt.title('Top Paired Words');"
   ]
  },
  {
   "cell_type": "markdown",
   "metadata": {},
   "source": [
    "# MODELS"
   ]
  },
  {
   "cell_type": "code",
   "execution_count": 28,
   "metadata": {},
   "outputs": [
    {
     "data": {
      "text/plain": [
       "1    0.5\n",
       "0    0.5\n",
       "Name: subreddit, dtype: float64"
      ]
     },
     "execution_count": 28,
     "metadata": {},
     "output_type": "execute_result"
    }
   ],
   "source": [
    "#baseline\n",
    "y.value_counts(normalize = True)"
   ]
  },
  {
   "cell_type": "markdown",
   "metadata": {},
   "source": [
    "Model 1"
   ]
  },
  {
   "cell_type": "code",
   "execution_count": 29,
   "metadata": {},
   "outputs": [],
   "source": [
    "X = final_df['post']\n",
    "y = final_df['subreddit']\n",
    "X_train, X_test, y_train, y_test = train_test_split(X,y, stratify = y)"
   ]
  },
  {
   "cell_type": "code",
   "execution_count": 30,
   "metadata": {},
   "outputs": [
    {
     "data": {
      "text/html": [
       "<div>\n",
       "<style scoped>\n",
       "    .dataframe tbody tr th:only-of-type {\n",
       "        vertical-align: middle;\n",
       "    }\n",
       "\n",
       "    .dataframe tbody tr th {\n",
       "        vertical-align: top;\n",
       "    }\n",
       "\n",
       "    .dataframe thead th {\n",
       "        text-align: right;\n",
       "    }\n",
       "</style>\n",
       "<table border=\"1\" class=\"dataframe\">\n",
       "  <thead>\n",
       "    <tr style=\"text-align: right;\">\n",
       "      <th></th>\n",
       "      <th>cvec__max_df</th>\n",
       "      <th>cvec__max_features</th>\n",
       "      <th>cvec__min_df</th>\n",
       "      <th>cvec__ngram_range</th>\n",
       "      <th>score</th>\n",
       "    </tr>\n",
       "  </thead>\n",
       "  <tbody>\n",
       "    <tr>\n",
       "      <th>model_0</th>\n",
       "      <td>0.7</td>\n",
       "      <td>2000</td>\n",
       "      <td>1</td>\n",
       "      <td>(1, 2)</td>\n",
       "      <td>1.0</td>\n",
       "    </tr>\n",
       "  </tbody>\n",
       "</table>\n",
       "</div>"
      ],
      "text/plain": [
       "         cvec__max_df  cvec__max_features  cvec__min_df cvec__ngram_range  \\\n",
       "model_0           0.7                2000             1            (1, 2)   \n",
       "\n",
       "         score  \n",
       "model_0    1.0  "
      ]
     },
     "execution_count": 30,
     "metadata": {},
     "output_type": "execute_result"
    }
   ],
   "source": [
    "count = 0\n",
    "model_params = {}\n",
    "pipe = Pipeline([\n",
    "    ('cvec', CountVectorizer(stop_words = stop_words)),\n",
    "    ('lg', LogisticRegression(penalty=\"none\"))\n",
    "])\n",
    "pipe_params = {\n",
    "    'cvec__max_features': [2_000],\n",
    "    'cvec__min_df': [1],\n",
    "    'cvec__max_df': [.7],\n",
    "    'cvec__ngram_range': [(1,2)]\n",
    "}\n",
    "gs = GridSearchCV(pipe, \n",
    "                  param_grid=pipe_params, \n",
    "                  cv=5)\n",
    "gs.fit(X_train, y_train)\n",
    "gs.best_params_['score'] = gs.best_score_\n",
    "model_params[f'model_{count}'] = gs.best_params_\n",
    "model_df = pd.DataFrame.from_dict(model_params, orient='index')\n",
    "model_df"
   ]
  },
  {
   "cell_type": "code",
   "execution_count": 31,
   "metadata": {},
   "outputs": [
    {
     "name": "stdout",
     "output_type": "stream",
     "text": [
      "{'mean_fit_time': array([0.32552266]), 'std_fit_time': array([0.03884966]), 'mean_score_time': array([0.09379725]), 'std_score_time': array([0.02171193]), 'param_cvec__max_df': masked_array(data=[0.7],\n",
      "             mask=[False],\n",
      "       fill_value='?',\n",
      "            dtype=object), 'param_cvec__max_features': masked_array(data=[2000],\n",
      "             mask=[False],\n",
      "       fill_value='?',\n",
      "            dtype=object), 'param_cvec__min_df': masked_array(data=[1],\n",
      "             mask=[False],\n",
      "       fill_value='?',\n",
      "            dtype=object), 'param_cvec__ngram_range': masked_array(data=[(1, 2)],\n",
      "             mask=[False],\n",
      "       fill_value='?',\n",
      "            dtype=object), 'params': [{'cvec__max_df': 0.7, 'cvec__max_features': 2000, 'cvec__min_df': 1, 'cvec__ngram_range': (1, 2), 'score': 1.0}], 'split0_test_score': array([1.]), 'split1_test_score': array([1.]), 'split2_test_score': array([1.]), 'split3_test_score': array([1.]), 'split4_test_score': array([1.]), 'mean_test_score': array([1.]), 'std_test_score': array([0.]), 'rank_test_score': array([1], dtype=int32)}\n"
     ]
    }
   ],
   "source": [
    "print(gs.cv_results_)"
   ]
  },
  {
   "cell_type": "code",
   "execution_count": 32,
   "metadata": {},
   "outputs": [
    {
     "name": "stdout",
     "output_type": "stream",
     "text": [
      "Pipeline(memory=None,\n",
      "         steps=[('cvec',\n",
      "                 CountVectorizer(analyzer='word', binary=False,\n",
      "                                 decode_error='strict',\n",
      "                                 dtype=<class 'numpy.int64'>, encoding='utf-8',\n",
      "                                 input='content', lowercase=True, max_df=0.7,\n",
      "                                 max_features=2000, min_df=1,\n",
      "                                 ngram_range=(1, 2), preprocessor=None,\n",
      "                                 stop_words=frozenset({'a', 'about', 'above',\n",
      "                                                       'across', 'after',\n",
      "                                                       'afterwards', 'again',\n",
      "                                                       'against', 'all',\n",
      "                                                       'a...\n",
      "                                                       'anywhere', ...}),\n",
      "                                 strip_accents=None,\n",
      "                                 token_pattern='(?u)\\\\b\\\\w\\\\w+\\\\b',\n",
      "                                 tokenizer=None, vocabulary=None)),\n",
      "                ('lg',\n",
      "                 LogisticRegression(C=1.0, class_weight=None, dual=False,\n",
      "                                    fit_intercept=True, intercept_scaling=1,\n",
      "                                    l1_ratio=None, max_iter=100,\n",
      "                                    multi_class='auto', n_jobs=None,\n",
      "                                    penalty='none', random_state=None,\n",
      "                                    solver='lbfgs', tol=0.0001, verbose=0,\n",
      "                                    warm_start=False))],\n",
      "         verbose=False)\n"
     ]
    }
   ],
   "source": [
    "print(gs.best_estimator_)"
   ]
  },
  {
   "cell_type": "code",
   "execution_count": 33,
   "metadata": {},
   "outputs": [
    {
     "name": "stdout",
     "output_type": "stream",
     "text": [
      "{'cvec__max_df': 0.7, 'cvec__max_features': 2000, 'cvec__min_df': 1, 'cvec__ngram_range': (1, 2), 'score': 1.0}\n"
     ]
    }
   ],
   "source": [
    "print(gs.best_params_)"
   ]
  },
  {
   "cell_type": "code",
   "execution_count": 34,
   "metadata": {},
   "outputs": [
    {
     "name": "stdout",
     "output_type": "stream",
     "text": [
      "1.0\n"
     ]
    }
   ],
   "source": [
    "print(gs.best_score_)"
   ]
  },
  {
   "cell_type": "code",
   "execution_count": 35,
   "metadata": {},
   "outputs": [
    {
     "data": {
      "text/plain": [
       "1.0"
      ]
     },
     "execution_count": 35,
     "metadata": {},
     "output_type": "execute_result"
    }
   ],
   "source": [
    "gs.score(X_train, y_train)"
   ]
  },
  {
   "cell_type": "code",
   "execution_count": 36,
   "metadata": {
    "scrolled": true
   },
   "outputs": [
    {
     "data": {
      "text/plain": [
       "1.0"
      ]
     },
     "execution_count": 36,
     "metadata": {},
     "output_type": "execute_result"
    }
   ],
   "source": [
    "gs.score(X_test, y_test)"
   ]
  },
  {
   "cell_type": "code",
   "execution_count": 37,
   "metadata": {},
   "outputs": [],
   "source": [
    "preds = gs.predict(X_test)\n",
    "tn, fp, fn, tp = confusion_matrix(y_test, preds).ravel()"
   ]
  },
  {
   "cell_type": "code",
   "execution_count": 38,
   "metadata": {},
   "outputs": [
    {
     "name": "stdout",
     "output_type": "stream",
     "text": [
      "Specificity: 1.0\n"
     ]
    }
   ],
   "source": [
    "spec = tn / (tn + fp)\n",
    "print('Specificity:', spec)"
   ]
  },
  {
   "cell_type": "code",
   "execution_count": 39,
   "metadata": {},
   "outputs": [
    {
     "data": {
      "text/plain": [
       "Text(0.5, 1.0, 'Confusion matrix CountVec/LogR')"
      ]
     },
     "execution_count": 39,
     "metadata": {},
     "output_type": "execute_result"
    },
    {
     "data": {
      "image/png": "[encoded data removed]",
      "text/plain": [
       "<Figure size 432x288 with 2 Axes>"
      ]
     },
     "metadata": {
      "needs_background": "light"
     },
     "output_type": "display_data"
    }
   ],
   "source": [
    "plot_confusion_matrix(gs, X_test, y_test, cmap='Blues', values_format='d');\n",
    "plt.title('Confusion matrix CountVec/LogR')"
   ]
  },
  {
   "cell_type": "markdown",
   "metadata": {},
   "source": [
    "Model 2"
   ]
  },
  {
   "cell_type": "code",
   "execution_count": 40,
   "metadata": {},
   "outputs": [
    {
     "data": {
      "text/html": [
       "<div>\n",
       "<style scoped>\n",
       "    .dataframe tbody tr th:only-of-type {\n",
       "        vertical-align: middle;\n",
       "    }\n",
       "\n",
       "    .dataframe tbody tr th {\n",
       "        vertical-align: top;\n",
       "    }\n",
       "\n",
       "    .dataframe thead th {\n",
       "        text-align: right;\n",
       "    }\n",
       "</style>\n",
       "<table border=\"1\" class=\"dataframe\">\n",
       "  <thead>\n",
       "    <tr style=\"text-align: right;\">\n",
       "      <th></th>\n",
       "      <th>tvec__max_features</th>\n",
       "      <th>tvec__ngram_range</th>\n",
       "      <th>score</th>\n",
       "    </tr>\n",
       "  </thead>\n",
       "  <tbody>\n",
       "    <tr>\n",
       "      <th>model_0</th>\n",
       "      <td>2000</td>\n",
       "      <td>(1, 1)</td>\n",
       "      <td>1.0</td>\n",
       "    </tr>\n",
       "  </tbody>\n",
       "</table>\n",
       "</div>"
      ],
      "text/plain": [
       "         tvec__max_features tvec__ngram_range  score\n",
       "model_0                2000            (1, 1)    1.0"
      ]
     },
     "execution_count": 40,
     "metadata": {},
     "output_type": "execute_result"
    }
   ],
   "source": [
    "count = 0\n",
    "model_params = {}\n",
    "pipe_tvec = Pipeline([\n",
    "    ('tvec', TfidfVectorizer(stop_words = stop_words)),\n",
    "    ('lg', LogisticRegression(penalty=\"none\"))\n",
    "])\n",
    "pipe_tvec_params = {\n",
    "    'tvec__max_features': [2_000, 3_000, 4_000, 5_000],\n",
    "    'tvec__ngram_range': [(1,1), (1,2)]\n",
    "}\n",
    "gs_tvec = GridSearchCV(pipe_tvec, \n",
    "                        param_grid = pipe_tvec_params, \n",
    "                        cv=5) \n",
    "gs_tvec.fit(X_train, y_train)\n",
    "gs_tvec.best_params_['score'] = gs_tvec.best_score_\n",
    "model_params[f'model_{count}'] = gs_tvec.best_params_\n",
    "model_df = pd.DataFrame.from_dict(model_params, orient='index')\n",
    "model_df"
   ]
  },
  {
   "cell_type": "code",
   "execution_count": 41,
   "metadata": {},
   "outputs": [
    {
     "name": "stdout",
     "output_type": "stream",
     "text": [
      "{'mean_fit_time': array([0.1992682 , 0.30151839, 0.20044131, 0.34128885, 0.21539278,\n",
      "       0.32159338, 0.27847385, 0.30642219]), 'std_fit_time': array([0.00912868, 0.02141878, 0.01788509, 0.03112727, 0.02502129,\n",
      "       0.06346748, 0.04816944, 0.02171006]), 'mean_score_time': array([0.04548883, 0.0701005 , 0.04746666, 0.09463334, 0.04722157,\n",
      "       0.07180891, 0.06109633, 0.07475591]), 'std_score_time': array([0.0028235 , 0.00233789, 0.00687795, 0.02143892, 0.00261038,\n",
      "       0.00346164, 0.01131784, 0.0044866 ]), 'param_tvec__max_features': masked_array(data=[2000, 2000, 3000, 3000, 4000, 4000, 5000, 5000],\n",
      "             mask=[False, False, False, False, False, False, False, False],\n",
      "       fill_value='?',\n",
      "            dtype=object), 'param_tvec__ngram_range': masked_array(data=[(1, 1), (1, 2), (1, 1), (1, 2), (1, 1), (1, 2), (1, 1),\n",
      "                   (1, 2)],\n",
      "             mask=[False, False, False, False, False, False, False, False],\n",
      "       fill_value='?',\n",
      "            dtype=object), 'params': [{'tvec__max_features': 2000, 'tvec__ngram_range': (1, 1), 'score': 1.0}, {'tvec__max_features': 2000, 'tvec__ngram_range': (1, 2)}, {'tvec__max_features': 3000, 'tvec__ngram_range': (1, 1)}, {'tvec__max_features': 3000, 'tvec__ngram_range': (1, 2)}, {'tvec__max_features': 4000, 'tvec__ngram_range': (1, 1)}, {'tvec__max_features': 4000, 'tvec__ngram_range': (1, 2)}, {'tvec__max_features': 5000, 'tvec__ngram_range': (1, 1)}, {'tvec__max_features': 5000, 'tvec__ngram_range': (1, 2)}], 'split0_test_score': array([1., 1., 1., 1., 1., 1., 1., 1.]), 'split1_test_score': array([1., 1., 1., 1., 1., 1., 1., 1.]), 'split2_test_score': array([1., 1., 1., 1., 1., 1., 1., 1.]), 'split3_test_score': array([1., 1., 1., 1., 1., 1., 1., 1.]), 'split4_test_score': array([1., 1., 1., 1., 1., 1., 1., 1.]), 'mean_test_score': array([1., 1., 1., 1., 1., 1., 1., 1.]), 'std_test_score': array([0., 0., 0., 0., 0., 0., 0., 0.]), 'rank_test_score': array([1, 1, 1, 1, 1, 1, 1, 1], dtype=int32)}\n"
     ]
    }
   ],
   "source": [
    "print(gs_tvec.cv_results_)"
   ]
  },
  {
   "cell_type": "code",
   "execution_count": 42,
   "metadata": {},
   "outputs": [
    {
     "name": "stdout",
     "output_type": "stream",
     "text": [
      "Pipeline(memory=None,\n",
      "         steps=[('tvec',\n",
      "                 TfidfVectorizer(analyzer='word', binary=False,\n",
      "                                 decode_error='strict',\n",
      "                                 dtype=<class 'numpy.float64'>,\n",
      "                                 encoding='utf-8', input='content',\n",
      "                                 lowercase=True, max_df=1.0, max_features=2000,\n",
      "                                 min_df=1, ngram_range=(1, 1), norm='l2',\n",
      "                                 preprocessor=None, smooth_idf=True,\n",
      "                                 stop_words=frozenset({'a', 'about', 'above',\n",
      "                                                       'across', 'after',\n",
      "                                                       'afterwards...\n",
      "                                 strip_accents=None, sublinear_tf=False,\n",
      "                                 token_pattern='(?u)\\\\b\\\\w\\\\w+\\\\b',\n",
      "                                 tokenizer=None, use_idf=True,\n",
      "                                 vocabulary=None)),\n",
      "                ('lg',\n",
      "                 LogisticRegression(C=1.0, class_weight=None, dual=False,\n",
      "                                    fit_intercept=True, intercept_scaling=1,\n",
      "                                    l1_ratio=None, max_iter=100,\n",
      "                                    multi_class='auto', n_jobs=None,\n",
      "                                    penalty='none', random_state=None,\n",
      "                                    solver='lbfgs', tol=0.0001, verbose=0,\n",
      "                                    warm_start=False))],\n",
      "         verbose=False)\n"
     ]
    }
   ],
   "source": [
    "print(gs_tvec.best_estimator_)"
   ]
  },
  {
   "cell_type": "code",
   "execution_count": 43,
   "metadata": {},
   "outputs": [
    {
     "name": "stdout",
     "output_type": "stream",
     "text": [
      "{'tvec__max_features': 2000, 'tvec__ngram_range': (1, 1), 'score': 1.0}\n"
     ]
    }
   ],
   "source": [
    "print(gs_tvec.best_params_)"
   ]
  },
  {
   "cell_type": "code",
   "execution_count": 44,
   "metadata": {},
   "outputs": [
    {
     "name": "stdout",
     "output_type": "stream",
     "text": [
      "1.0\n"
     ]
    }
   ],
   "source": [
    "print(gs_tvec.best_score_)"
   ]
  },
  {
   "cell_type": "code",
   "execution_count": 45,
   "metadata": {},
   "outputs": [
    {
     "data": {
      "text/plain": [
       "1.0"
      ]
     },
     "execution_count": 45,
     "metadata": {},
     "output_type": "execute_result"
    }
   ],
   "source": [
    "gs_tvec.score(X_train, y_train)"
   ]
  },
  {
   "cell_type": "code",
   "execution_count": 46,
   "metadata": {},
   "outputs": [
    {
     "data": {
      "text/plain": [
       "1.0"
      ]
     },
     "execution_count": 46,
     "metadata": {},
     "output_type": "execute_result"
    }
   ],
   "source": [
    "gs_tvec.score(X_test, y_test)"
   ]
  },
  {
   "cell_type": "code",
   "execution_count": 47,
   "metadata": {},
   "outputs": [
    {
     "name": "stdout",
     "output_type": "stream",
     "text": [
      "Specificity: 1.0\n"
     ]
    }
   ],
   "source": [
    "preds_tvec = gs_tvec.predict(X_test)\n",
    "tn, fp, fn, tp = confusion_matrix(y_test, preds_tvec).ravel()\n",
    "spec = tn / (tn + fp)\n",
    "print('Specificity:', spec)"
   ]
  },
  {
   "cell_type": "code",
   "execution_count": 48,
   "metadata": {},
   "outputs": [
    {
     "data": {
      "text/plain": [
       "Text(0.5, 1.0, 'Confusion matrix Tfidf/LogR')"
      ]
     },
     "execution_count": 48,
     "metadata": {},
     "output_type": "execute_result"
    },
    {
     "data": {
      "image/png": "[encoded data removed]",
      "text/plain": [
       "<Figure size 432x288 with 2 Axes>"
      ]
     },
     "metadata": {
      "needs_background": "light"
     },
     "output_type": "display_data"
    }
   ],
   "source": [
    "plot_confusion_matrix(gs_tvec, X_test, y_test, cmap='Blues', values_format='d');\n",
    "plt.title('Confusion matrix Tfidf/LogR')"
   ]
  },
  {
   "cell_type": "markdown",
   "metadata": {},
   "source": [
    "Model 3"
   ]
  },
  {
   "cell_type": "code",
   "execution_count": 49,
   "metadata": {},
   "outputs": [
    {
     "name": "stderr",
     "output_type": "stream",
     "text": [
      "/home/andrew/anaconda3/lib/python3.7/site-packages/sklearn/model_selection/_validation.py:536: FitFailedWarning: Estimator fit failed. The score on this train-test partition for these parameters will be set to nan. Details: \n",
      "TypeError: '>' not supported between instances of 'numpy.ndarray' and 'str'\n",
      "\n",
      "  FitFailedWarning)\n",
      "/home/andrew/anaconda3/lib/python3.7/site-packages/sklearn/model_selection/_validation.py:536: FitFailedWarning: Estimator fit failed. The score on this train-test partition for these parameters will be set to nan. Details: \n",
      "TypeError: '>' not supported between instances of 'numpy.ndarray' and 'str'\n",
      "\n",
      "  FitFailedWarning)\n"
     ]
    },
    {
     "data": {
      "text/html": [
       "<div>\n",
       "<style scoped>\n",
       "    .dataframe tbody tr th:only-of-type {\n",
       "        vertical-align: middle;\n",
       "    }\n",
       "\n",
       "    .dataframe tbody tr th {\n",
       "        vertical-align: top;\n",
       "    }\n",
       "\n",
       "    .dataframe thead th {\n",
       "        text-align: right;\n",
       "    }\n",
       "</style>\n",
       "<table border=\"1\" class=\"dataframe\">\n",
       "  <thead>\n",
       "    <tr style=\"text-align: right;\">\n",
       "      <th></th>\n",
       "      <th>cvec__max_df</th>\n",
       "      <th>cvec__max_features</th>\n",
       "      <th>cvec__min_df</th>\n",
       "      <th>cvec__ngram_range</th>\n",
       "      <th>score</th>\n",
       "    </tr>\n",
       "  </thead>\n",
       "  <tbody>\n",
       "    <tr>\n",
       "      <th>model_0</th>\n",
       "      <td>0.9</td>\n",
       "      <td>None</td>\n",
       "      <td>2</td>\n",
       "      <td>(1, 1)</td>\n",
       "      <td>1.0</td>\n",
       "    </tr>\n",
       "  </tbody>\n",
       "</table>\n",
       "</div>"
      ],
      "text/plain": [
       "         cvec__max_df cvec__max_features  cvec__min_df cvec__ngram_range  \\\n",
       "model_0           0.9               None             2            (1, 1)   \n",
       "\n",
       "         score  \n",
       "model_0    1.0  "
      ]
     },
     "execution_count": 49,
     "metadata": {},
     "output_type": "execute_result"
    }
   ],
   "source": [
    "model_df = pd.DataFrame.from_dict(model_params, orient='index')\n",
    "model_df\n",
    "count = 0\n",
    "model_params = {}\n",
    "pipe_rf = Pipeline([\n",
    "    ('cvec', CountVectorizer(stop_words = stop_words, ngram_range = (1,3))),\n",
    "    ('rf', RandomForestClassifier())\n",
    "])\n",
    "pipe_rf_params = {\n",
    "    'cvec__max_features': [None, 'auto'],\n",
    "    'cvec__min_df': [2, 3],\n",
    "    'cvec__max_df': [.9, .95],\n",
    "    'cvec__ngram_range': [(1,1), (1,2)],\n",
    "    #'n_estimators': [100, 150, 200],\n",
    "#    'max_depth': [None, 1, 2, 3],\n",
    "}\n",
    "rf = GridSearchCV(pipe_rf,\n",
    "                  param_grid=pipe_rf_params,\n",
    "                  cv=5)\n",
    "rf.fit(X_train, y_train)\n",
    "rf.best_params_['score'] = rf.best_score_\n",
    "model_params[f'model_{count}'] = rf.best_params_\n",
    "model_df = pd.DataFrame.from_dict(model_params, orient='index')\n",
    "model_df"
   ]
  },
  {
   "cell_type": "code",
   "execution_count": 50,
   "metadata": {},
   "outputs": [
    {
     "name": "stdout",
     "output_type": "stream",
     "text": [
      "{'mean_fit_time': array([0.45569859, 0.57628536, 0.49541917, 0.60321174, 0.21711025,\n",
      "       0.36845326, 0.25003843, 0.27264652, 0.53028564, 0.66480622,\n",
      "       0.4682168 , 0.692205  , 0.16789832, 0.24408574, 0.17149978,\n",
      "       0.25039282]), 'std_fit_time': array([0.01907583, 0.00848317, 0.02964514, 0.01643864, 0.04266556,\n",
      "       0.07760009, 0.0377489 , 0.0102704 , 0.03640345, 0.04611524,\n",
      "       0.0192981 , 0.03545527, 0.01245372, 0.01464928, 0.00893309,\n",
      "       0.01442683]), 'mean_score_time': array([0.0753448 , 0.09853492, 0.0741179 , 0.09914045, 0.        ,\n",
      "       0.        , 0.        , 0.        , 0.08150587, 0.10216403,\n",
      "       0.0703485 , 0.12204962, 0.        , 0.        , 0.        ,\n",
      "       0.        ]), 'std_score_time': array([0.01240146, 0.00555157, 0.00415233, 0.00569935, 0.        ,\n",
      "       0.        , 0.        , 0.        , 0.00690403, 0.01003926,\n",
      "       0.00492709, 0.0408737 , 0.        , 0.        , 0.        ,\n",
      "       0.        ]), 'param_cvec__max_df': masked_array(data=[0.9, 0.9, 0.9, 0.9, 0.9, 0.9, 0.9, 0.9, 0.95, 0.95,\n",
      "                   0.95, 0.95, 0.95, 0.95, 0.95, 0.95],\n",
      "             mask=[False, False, False, False, False, False, False, False,\n",
      "                   False, False, False, False, False, False, False, False],\n",
      "       fill_value='?',\n",
      "            dtype=object), 'param_cvec__max_features': masked_array(data=[None, None, None, None, 'auto', 'auto', 'auto', 'auto',\n",
      "                   None, None, None, None, 'auto', 'auto', 'auto', 'auto'],\n",
      "             mask=[False, False, False, False, False, False, False, False,\n",
      "                   False, False, False, False, False, False, False, False],\n",
      "       fill_value='?',\n",
      "            dtype=object), 'param_cvec__min_df': masked_array(data=[2, 2, 3, 3, 2, 2, 3, 3, 2, 2, 3, 3, 2, 2, 3, 3],\n",
      "             mask=[False, False, False, False, False, False, False, False,\n",
      "                   False, False, False, False, False, False, False, False],\n",
      "       fill_value='?',\n",
      "            dtype=object), 'param_cvec__ngram_range': masked_array(data=[(1, 1), (1, 2), (1, 1), (1, 2), (1, 1), (1, 2), (1, 1),\n",
      "                   (1, 2), (1, 1), (1, 2), (1, 1), (1, 2), (1, 1), (1, 2),\n",
      "                   (1, 1), (1, 2)],\n",
      "             mask=[False, False, False, False, False, False, False, False,\n",
      "                   False, False, False, False, False, False, False, False],\n",
      "       fill_value='?',\n",
      "            dtype=object), 'params': [{'cvec__max_df': 0.9, 'cvec__max_features': None, 'cvec__min_df': 2, 'cvec__ngram_range': (1, 1), 'score': 1.0}, {'cvec__max_df': 0.9, 'cvec__max_features': None, 'cvec__min_df': 2, 'cvec__ngram_range': (1, 2)}, {'cvec__max_df': 0.9, 'cvec__max_features': None, 'cvec__min_df': 3, 'cvec__ngram_range': (1, 1)}, {'cvec__max_df': 0.9, 'cvec__max_features': None, 'cvec__min_df': 3, 'cvec__ngram_range': (1, 2)}, {'cvec__max_df': 0.9, 'cvec__max_features': 'auto', 'cvec__min_df': 2, 'cvec__ngram_range': (1, 1)}, {'cvec__max_df': 0.9, 'cvec__max_features': 'auto', 'cvec__min_df': 2, 'cvec__ngram_range': (1, 2)}, {'cvec__max_df': 0.9, 'cvec__max_features': 'auto', 'cvec__min_df': 3, 'cvec__ngram_range': (1, 1)}, {'cvec__max_df': 0.9, 'cvec__max_features': 'auto', 'cvec__min_df': 3, 'cvec__ngram_range': (1, 2)}, {'cvec__max_df': 0.95, 'cvec__max_features': None, 'cvec__min_df': 2, 'cvec__ngram_range': (1, 1)}, {'cvec__max_df': 0.95, 'cvec__max_features': None, 'cvec__min_df': 2, 'cvec__ngram_range': (1, 2)}, {'cvec__max_df': 0.95, 'cvec__max_features': None, 'cvec__min_df': 3, 'cvec__ngram_range': (1, 1)}, {'cvec__max_df': 0.95, 'cvec__max_features': None, 'cvec__min_df': 3, 'cvec__ngram_range': (1, 2)}, {'cvec__max_df': 0.95, 'cvec__max_features': 'auto', 'cvec__min_df': 2, 'cvec__ngram_range': (1, 1)}, {'cvec__max_df': 0.95, 'cvec__max_features': 'auto', 'cvec__min_df': 2, 'cvec__ngram_range': (1, 2)}, {'cvec__max_df': 0.95, 'cvec__max_features': 'auto', 'cvec__min_df': 3, 'cvec__ngram_range': (1, 1)}, {'cvec__max_df': 0.95, 'cvec__max_features': 'auto', 'cvec__min_df': 3, 'cvec__ngram_range': (1, 2)}], 'split0_test_score': array([ 1.,  1.,  1.,  1., nan, nan, nan, nan,  1.,  1.,  1.,  1., nan,\n",
      "       nan, nan, nan]), 'split1_test_score': array([ 1.,  1.,  1.,  1., nan, nan, nan, nan,  1.,  1.,  1.,  1., nan,\n",
      "       nan, nan, nan]), 'split2_test_score': array([ 1.,  1.,  1.,  1., nan, nan, nan, nan,  1.,  1.,  1.,  1., nan,\n",
      "       nan, nan, nan]), 'split3_test_score': array([ 1.,  1.,  1.,  1., nan, nan, nan, nan,  1.,  1.,  1.,  1., nan,\n",
      "       nan, nan, nan]), 'split4_test_score': array([ 1.,  1.,  1.,  1., nan, nan, nan, nan,  1.,  1.,  1.,  1., nan,\n",
      "       nan, nan, nan]), 'mean_test_score': array([ 1.,  1.,  1.,  1., nan, nan, nan, nan,  1.,  1.,  1.,  1., nan,\n",
      "       nan, nan, nan]), 'std_test_score': array([ 0.,  0.,  0.,  0., nan, nan, nan, nan,  0.,  0.,  0.,  0., nan,\n",
      "       nan, nan, nan]), 'rank_test_score': array([ 1,  1,  1,  1,  9, 10, 11, 12,  1,  1,  1,  1, 13, 14, 15, 16],\n",
      "      dtype=int32)}\n"
     ]
    }
   ],
   "source": [
    "print(rf.cv_results_)"
   ]
  },
  {
   "cell_type": "code",
   "execution_count": 51,
   "metadata": {},
   "outputs": [
    {
     "name": "stdout",
     "output_type": "stream",
     "text": [
      "Pipeline(memory=None,\n",
      "         steps=[('cvec',\n",
      "                 CountVectorizer(analyzer='word', binary=False,\n",
      "                                 decode_error='strict',\n",
      "                                 dtype=<class 'numpy.int64'>, encoding='utf-8',\n",
      "                                 input='content', lowercase=True, max_df=0.9,\n",
      "                                 max_features=None, min_df=2,\n",
      "                                 ngram_range=(1, 1), preprocessor=None,\n",
      "                                 stop_words=frozenset({'a', 'about', 'above',\n",
      "                                                       'across', 'after',\n",
      "                                                       'afterwards', 'again',\n",
      "                                                       'against', 'all',\n",
      "                                                       'a...\n",
      "                 RandomForestClassifier(bootstrap=True, ccp_alpha=0.0,\n",
      "                                        class_weight=None, criterion='gini',\n",
      "                                        max_depth=None, max_features='auto',\n",
      "                                        max_leaf_nodes=None, max_samples=None,\n",
      "                                        min_impurity_decrease=0.0,\n",
      "                                        min_impurity_split=None,\n",
      "                                        min_samples_leaf=1, min_samples_split=2,\n",
      "                                        min_weight_fraction_leaf=0.0,\n",
      "                                        n_estimators=100, n_jobs=None,\n",
      "                                        oob_score=False, random_state=None,\n",
      "                                        verbose=0, warm_start=False))],\n",
      "         verbose=False)\n"
     ]
    }
   ],
   "source": [
    "print(rf.best_estimator_)"
   ]
  },
  {
   "cell_type": "code",
   "execution_count": 52,
   "metadata": {},
   "outputs": [
    {
     "name": "stdout",
     "output_type": "stream",
     "text": [
      "{'cvec__max_df': 0.9, 'cvec__max_features': None, 'cvec__min_df': 2, 'cvec__ngram_range': (1, 1), 'score': 1.0}\n"
     ]
    }
   ],
   "source": [
    "print(rf.best_params_)"
   ]
  },
  {
   "cell_type": "code",
   "execution_count": 53,
   "metadata": {},
   "outputs": [
    {
     "name": "stdout",
     "output_type": "stream",
     "text": [
      "1.0\n"
     ]
    }
   ],
   "source": [
    "print(rf.best_score_)"
   ]
  },
  {
   "cell_type": "code",
   "execution_count": 54,
   "metadata": {},
   "outputs": [
    {
     "data": {
      "text/plain": [
       "1.0"
      ]
     },
     "execution_count": 54,
     "metadata": {},
     "output_type": "execute_result"
    }
   ],
   "source": [
    "gs.score(X_train, y_train)"
   ]
  },
  {
   "cell_type": "code",
   "execution_count": 55,
   "metadata": {},
   "outputs": [
    {
     "data": {
      "text/plain": [
       "1.0"
      ]
     },
     "execution_count": 55,
     "metadata": {},
     "output_type": "execute_result"
    }
   ],
   "source": [
    "gs.score(X_test, y_test)"
   ]
  },
  {
   "cell_type": "code",
   "execution_count": 56,
   "metadata": {},
   "outputs": [
    {
     "name": "stdout",
     "output_type": "stream",
     "text": [
      "Specificity: 1.0\n"
     ]
    }
   ],
   "source": [
    "preds_df = gs.predict(X_test)\n",
    "tn, fp, fn, tp = confusion_matrix(y_test, preds_df).ravel()\n",
    "spec = tn / (tn + fp)\n",
    "print('Specificity:', spec)"
   ]
  },
  {
   "cell_type": "code",
   "execution_count": 57,
   "metadata": {},
   "outputs": [
    {
     "data": {
      "text/plain": [
       "Text(0.5, 1.0, 'Confusion matrix CountVec/Random Forest')"
      ]
     },
     "execution_count": 57,
     "metadata": {},
     "output_type": "execute_result"
    },
    {
     "data": {
      "image/png": "[encoded data removed]",
      "text/plain": [
       "<Figure size 432x288 with 2 Axes>"
      ]
     },
     "metadata": {
      "needs_background": "light"
     },
     "output_type": "display_data"
    }
   ],
   "source": [
    "plot_confusion_matrix(gs, X_test, y_test, cmap='Blues', values_format='d');\n",
    "plt.title('Confusion matrix CountVec/Random Forest')"
   ]
  },
  {
   "cell_type": "markdown",
   "metadata": {},
   "source": [
    "Model 4"
   ]
  },
  {
   "cell_type": "code",
   "execution_count": 58,
   "metadata": {},
   "outputs": [
    {
     "name": "stdout",
     "output_type": "stream",
     "text": [
      "Fitting 5 folds for each of 2 candidates, totalling 10 fits\n"
     ]
    },
    {
     "name": "stderr",
     "output_type": "stream",
     "text": [
      "[Parallel(n_jobs=1)]: Using backend SequentialBackend with 1 concurrent workers.\n",
      "[Parallel(n_jobs=1)]: Done  10 out of  10 | elapsed:    5.5s finished\n"
     ]
    },
    {
     "data": {
      "text/html": [
       "<div>\n",
       "<style scoped>\n",
       "    .dataframe tbody tr th:only-of-type {\n",
       "        vertical-align: middle;\n",
       "    }\n",
       "\n",
       "    .dataframe tbody tr th {\n",
       "        vertical-align: top;\n",
       "    }\n",
       "\n",
       "    .dataframe thead th {\n",
       "        text-align: right;\n",
       "    }\n",
       "</style>\n",
       "<table border=\"1\" class=\"dataframe\">\n",
       "  <thead>\n",
       "    <tr style=\"text-align: right;\">\n",
       "      <th></th>\n",
       "      <th>tvec__max_features</th>\n",
       "      <th>tvec__ngram_range</th>\n",
       "      <th>score</th>\n",
       "    </tr>\n",
       "  </thead>\n",
       "  <tbody>\n",
       "    <tr>\n",
       "      <th>model_0</th>\n",
       "      <td>4000</td>\n",
       "      <td>(1, 1)</td>\n",
       "      <td>1.0</td>\n",
       "    </tr>\n",
       "  </tbody>\n",
       "</table>\n",
       "</div>"
      ],
      "text/plain": [
       "         tvec__max_features tvec__ngram_range  score\n",
       "model_0                4000            (1, 1)    1.0"
      ]
     },
     "execution_count": 58,
     "metadata": {},
     "output_type": "execute_result"
    }
   ],
   "source": [
    "count = 0\n",
    "model_params = {}\n",
    "pipe_rftv = Pipeline([\n",
    "    ('tvec', TfidfVectorizer(stop_words = stop_words)),\n",
    "    ('rf', RandomForestClassifier())\n",
    "])\n",
    "pipe_rftv_params= {\n",
    "    'tvec__max_features': [4_000,5000],\n",
    "    'tvec__ngram_range': [(1,1)],\n",
    "#     'n_estimators': [100, 150, 200],\n",
    "#     'max_depth': [None, 1, 2, 3],\n",
    "}\n",
    "rf_tvec = GridSearchCV(pipe_rftv, \n",
    "                        param_grid = pipe_rftv_params,\n",
    "                        cv=5,\n",
    "                        verbose=1)\n",
    "rf_tvec.fit(X_train, y_train)\n",
    "rf_tvec.best_params_['score'] = rf_tvec.best_score_\n",
    "model_params[f'model_{count}'] = rf_tvec.best_params_\n",
    "model_df = pd.DataFrame.from_dict(model_params, orient='index')\n",
    "model_df"
   ]
  },
  {
   "cell_type": "code",
   "execution_count": 59,
   "metadata": {},
   "outputs": [
    {
     "name": "stdout",
     "output_type": "stream",
     "text": [
      "{'mean_fit_time': array([0.51779971, 0.43692679]), 'std_fit_time': array([0.0541906 , 0.00354465]), 'mean_score_time': array([0.07605305, 0.06839061]), 'std_score_time': array([0.00692699, 0.00105226]), 'param_tvec__max_features': masked_array(data=[4000, 5000],\n",
      "             mask=[False, False],\n",
      "       fill_value='?',\n",
      "            dtype=object), 'param_tvec__ngram_range': masked_array(data=[(1, 1), (1, 1)],\n",
      "             mask=[False, False],\n",
      "       fill_value='?',\n",
      "            dtype=object), 'params': [{'tvec__max_features': 4000, 'tvec__ngram_range': (1, 1), 'score': 1.0}, {'tvec__max_features': 5000, 'tvec__ngram_range': (1, 1)}], 'split0_test_score': array([1., 1.]), 'split1_test_score': array([1., 1.]), 'split2_test_score': array([1., 1.]), 'split3_test_score': array([1., 1.]), 'split4_test_score': array([1., 1.]), 'mean_test_score': array([1., 1.]), 'std_test_score': array([0., 0.]), 'rank_test_score': array([1, 1], dtype=int32)}\n"
     ]
    }
   ],
   "source": [
    "print(rf_tvec.cv_results_)"
   ]
  },
  {
   "cell_type": "code",
   "execution_count": 60,
   "metadata": {},
   "outputs": [
    {
     "name": "stdout",
     "output_type": "stream",
     "text": [
      "Pipeline(memory=None,\n",
      "         steps=[('tvec',\n",
      "                 TfidfVectorizer(analyzer='word', binary=False,\n",
      "                                 decode_error='strict',\n",
      "                                 dtype=<class 'numpy.float64'>,\n",
      "                                 encoding='utf-8', input='content',\n",
      "                                 lowercase=True, max_df=1.0, max_features=4000,\n",
      "                                 min_df=1, ngram_range=(1, 1), norm='l2',\n",
      "                                 preprocessor=None, smooth_idf=True,\n",
      "                                 stop_words=frozenset({'a', 'about', 'above',\n",
      "                                                       'across', 'after',\n",
      "                                                       'afterwards...\n",
      "                 RandomForestClassifier(bootstrap=True, ccp_alpha=0.0,\n",
      "                                        class_weight=None, criterion='gini',\n",
      "                                        max_depth=None, max_features='auto',\n",
      "                                        max_leaf_nodes=None, max_samples=None,\n",
      "                                        min_impurity_decrease=0.0,\n",
      "                                        min_impurity_split=None,\n",
      "                                        min_samples_leaf=1, min_samples_split=2,\n",
      "                                        min_weight_fraction_leaf=0.0,\n",
      "                                        n_estimators=100, n_jobs=None,\n",
      "                                        oob_score=False, random_state=None,\n",
      "                                        verbose=0, warm_start=False))],\n",
      "         verbose=False)\n"
     ]
    }
   ],
   "source": [
    "print(rf_tvec.best_estimator_)"
   ]
  },
  {
   "cell_type": "code",
   "execution_count": 61,
   "metadata": {},
   "outputs": [
    {
     "name": "stdout",
     "output_type": "stream",
     "text": [
      "{'tvec__max_features': 4000, 'tvec__ngram_range': (1, 1), 'score': 1.0}\n"
     ]
    }
   ],
   "source": [
    "print(rf_tvec.best_params_)"
   ]
  },
  {
   "cell_type": "code",
   "execution_count": 62,
   "metadata": {},
   "outputs": [
    {
     "name": "stdout",
     "output_type": "stream",
     "text": [
      "1.0\n"
     ]
    }
   ],
   "source": [
    "print(rf_tvec.best_score_)"
   ]
  },
  {
   "cell_type": "code",
   "execution_count": 63,
   "metadata": {},
   "outputs": [
    {
     "data": {
      "text/plain": [
       "1.0"
      ]
     },
     "execution_count": 63,
     "metadata": {},
     "output_type": "execute_result"
    }
   ],
   "source": [
    "rf_tvec.score(X_train, y_train)"
   ]
  },
  {
   "cell_type": "code",
   "execution_count": 64,
   "metadata": {},
   "outputs": [
    {
     "data": {
      "text/plain": [
       "1.0"
      ]
     },
     "execution_count": 64,
     "metadata": {},
     "output_type": "execute_result"
    }
   ],
   "source": [
    "rf_tvec.score(X_test, y_test)"
   ]
  },
  {
   "cell_type": "code",
   "execution_count": 65,
   "metadata": {},
   "outputs": [
    {
     "name": "stdout",
     "output_type": "stream",
     "text": [
      "Specificity: 1.0\n"
     ]
    }
   ],
   "source": [
    "preds_rf = rf_tvec.predict(X_test)\n",
    "tn, fp, fn, tp = confusion_matrix(y_test, preds_rf).ravel()\n",
    "spec = tn / (tn + fp)\n",
    "print('Specificity:', spec)"
   ]
  },
  {
   "cell_type": "code",
   "execution_count": 66,
   "metadata": {},
   "outputs": [
    {
     "data": {
      "text/plain": [
       "Text(0.5, 1.0, 'Confusion matrix Tf-idf/Random Forest')"
      ]
     },
     "execution_count": 66,
     "metadata": {},
     "output_type": "execute_result"
    },
    {
     "data": {
      "image/png": "[encoded data removed]",
      "text/plain": [
       "<Figure size 432x288 with 2 Axes>"
      ]
     },
     "metadata": {
      "needs_background": "light"
     },
     "output_type": "display_data"
    }
   ],
   "source": [
    "plot_confusion_matrix(rf_tvec, X_test, y_test, cmap='Blues', values_format='d');\n",
    "plt.title('Confusion matrix Tf-idf/Random Forest')"
   ]
  },
  {
   "cell_type": "markdown",
   "metadata": {},
   "source": [
    "# Evaluation"
   ]
  },
  {
   "cell_type": "markdown",
   "metadata": {},
   "source": [
    "I had some issues with this model, I will revist my mistakes after discussing with my instructors. Fixed the issue with the amounts of posts being grabbed but not sure why all my models are producing the same output.\n",
    "\n",
    "Ran the models multiple times with multiple different outputs. Could keep a random state however was working on fixing other breaks.\n",
    "\n",
    "\n",
    "Our first model scored the best, CountVectorizer Logistic Regresssion. The accuracy score was 100.0% on training data and about 96-100% on testing/new data. We are confident in our model with such a high accuracy however there is no such thing as a perfect model. We will revisit our models to see if there were any parameters we could refine.\n",
    "\n",
    "\n",
    "\n",
    "Model 1: 0.9689\n",
    "Model 2: 0.9688\n",
    "Model 3: 0.9649\n",
    "Model 4: 0.9611"
   ]
  },
  {
   "cell_type": "markdown",
   "metadata": {},
   "source": [
    "# Recommendations\n",
    "\n",
    "There is no such thing as the perfect model however this model is predicting perfect accuracy, is this correct? What could be causing this and why?\n",
    "Is this our best model or can we make it better?\n",
    "Improve our model by collecting more data, better data refining, and including more models ie. boosting, SVM.\n",
    "Sentiment analysis could also be helpful to better determine negative sentiment for betting odds."
   ]
  }
 ],
 "metadata": {
  "kernelspec": {
   "display_name": "Python 3",
   "language": "python",
   "name": "python3"
  },
  "language_info": {
   "codemirror_mode": {
    "name": "ipython",
    "version": 3
   },
   "file_extension": ".py",
   "mimetype": "text/x-python",
   "name": "python",
   "nbconvert_exporter": "python",
   "pygments_lexer": "ipython3",
   "version": "3.7.6"
  }
 },
 "nbformat": 4,
 "nbformat_minor": 4
}
